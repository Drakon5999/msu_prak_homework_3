{
 "cells": [
  {
   "cell_type": "code",
   "execution_count": 1,
   "metadata": {},
   "outputs": [],
   "source": [
    "import warnings\n",
    "warnings.filterwarnings('ignore')"
   ]
  },
  {
   "cell_type": "code",
   "execution_count": 2,
   "metadata": {},
   "outputs": [],
   "source": [
    "import os\n",
    "import librosa\n",
    "import numpy\n",
    "import soundfile\n",
    "\n",
    "from tqdm import tqdm_notebook as tqdm\n",
    "from concurrent.futures import ProcessPoolExecutor, ThreadPoolExecutor, as_completed"
   ]
  },
  {
   "cell_type": "code",
   "execution_count": 3,
   "metadata": {},
   "outputs": [],
   "source": [
    "def extact_mfcc_worker(node, path_to_result_folder, rel_path):\n",
    "    path_to_result = \"{}/{}\".format(path_to_result_folder, rel_path)\n",
    "    os.makedirs(\"{}/{}\".format(path_to_result_folder, rel_path), exist_ok=True)\n",
    "    for f in node[2]:\n",
    "        adio_series, rate = librosa.core.load('{}/{}'.format(node[0], f))\n",
    "        mfcc_features = librosa.feature.mfcc(adio_series, rate)   \n",
    "        numpy.savetxt(\"{}/{}.csv\".format(path_to_result, f), mfcc_features, delimiter=\",\")"
   ]
  },
  {
   "cell_type": "code",
   "execution_count": 4,
   "metadata": {},
   "outputs": [],
   "source": [
    "def extract_mfcc(path_to_start_folder, path_to_result_folder):\n",
    "    tree = tqdm(os.walk(path_to_start_folder))\n",
    "    for node in tree:\n",
    "        rel_path = os.path.relpath(node[0])\n",
    "        if node[2]:\n",
    "            extact_mfcc_worker(node, path_to_result_folder, rel_path)"
   ]
  },
  {
   "cell_type": "code",
   "execution_count": 5,
   "metadata": {},
   "outputs": [],
   "source": [
    "def extract_mfcc_processes(path_to_start_folder, path_to_result_folder, num_proc=8):\n",
    "    tree = tqdm(os.walk(path_to_start_folder))\n",
    "    with ProcessPoolExecutor(max_workers=num_proc) as pool:\n",
    "        for node in tree:\n",
    "            rel_path = os.path.relpath(node[0])\n",
    "            if node[2]:\n",
    "                pool.submit(extact_mfcc_worker, node, path_to_result_folder, rel_path)\n",
    "    "
   ]
  },
  {
   "cell_type": "code",
   "execution_count": 6,
   "metadata": {},
   "outputs": [],
   "source": [
    "def extract_mfcc_threads(path_to_start_folder, path_to_result_folder, num_threads=8):\n",
    "    tree = tqdm(os.walk(path_to_start_folder))\n",
    "    with ThreadPoolExecutor(max_workers=num_threads) as pool:\n",
    "        for node in tree:\n",
    "            rel_path = os.path.relpath(node[0])\n",
    "            if node[2]:\n",
    "                pool.submit(extact_mfcc_worker, node, path_to_result_folder, rel_path)"
   ]
  },
  {
   "cell_type": "markdown",
   "metadata": {},
   "source": [
    "### Попробуем запустить последовательно"
   ]
  },
  {
   "cell_type": "code",
   "execution_count": 60,
   "metadata": {
    "scrolled": true
   },
   "outputs": [
    {
     "data": {
      "application/vnd.jupyter.widget-view+json": {
       "model_id": "957c8c6458484e48a96ca9b68988ea03",
       "version_major": 2,
       "version_minor": 0
      },
      "text/plain": [
       "HBox(children=(IntProgress(value=1, bar_style='info', max=1), HTML(value='')))"
      ]
     },
     "metadata": {},
     "output_type": "display_data"
    },
    {
     "name": "stdout",
     "output_type": "stream",
     "text": [
      "\n",
      "2h 50min 31s ± 0 ns per loop (mean ± std. dev. of 1 run, 1 loop each)\n"
     ]
    }
   ],
   "source": [
    "%%timeit -r1 -n1\n",
    "extract_mfcc(\"aac\", \"result\")"
   ]
  },
  {
   "cell_type": "markdown",
   "metadata": {},
   "source": [
    "### Параллельно на процессах"
   ]
  },
  {
   "cell_type": "code",
   "execution_count": 7,
   "metadata": {},
   "outputs": [
    {
     "data": {
      "application/vnd.jupyter.widget-view+json": {
       "model_id": "654a654849e943c7a638ad6360b14489",
       "version_major": 2,
       "version_minor": 0
      },
      "text/plain": [
       "HBox(children=(IntProgress(value=1, bar_style='info', max=1), HTML(value='')))"
      ]
     },
     "metadata": {},
     "output_type": "display_data"
    },
    {
     "name": "stdout",
     "output_type": "stream",
     "text": [
      "\n",
      "1h 21min 36s ± 0 ns per loop (mean ± std. dev. of 1 run, 1 loop each)\n"
     ]
    }
   ],
   "source": [
    "%%timeit -r1 -n1\n",
    "extract_mfcc_processes(\"aac\", \"result_proc\")"
   ]
  },
  {
   "cell_type": "markdown",
   "metadata": {},
   "source": [
    "### Параллельно на потоках"
   ]
  },
  {
   "cell_type": "code",
   "execution_count": 8,
   "metadata": {},
   "outputs": [
    {
     "data": {
      "application/vnd.jupyter.widget-view+json": {
       "model_id": "52a1a64cc92844fdb1df61db29388410",
       "version_major": 2,
       "version_minor": 0
      },
      "text/plain": [
       "HBox(children=(IntProgress(value=1, bar_style='info', max=1), HTML(value='')))"
      ]
     },
     "metadata": {},
     "output_type": "display_data"
    },
    {
     "name": "stdout",
     "output_type": "stream",
     "text": [
      "\n",
      "2h 30s ± 0 ns per loop (mean ± std. dev. of 1 run, 1 loop each)\n"
     ]
    }
   ],
   "source": [
    "%%timeit -r1 -n1\n",
    "extract_mfcc_threads(\"aac\", \"result_threds\")"
   ]
  },
  {
   "cell_type": "code",
   "execution_count": null,
   "metadata": {},
   "outputs": [],
   "source": []
  }
 ],
 "metadata": {
  "kernelspec": {
   "display_name": "Python 3",
   "language": "python",
   "name": "python3"
  },
  "language_info": {
   "codemirror_mode": {
    "name": "ipython",
    "version": 3
   },
   "file_extension": ".py",
   "mimetype": "text/x-python",
   "name": "python",
   "nbconvert_exporter": "python",
   "pygments_lexer": "ipython3",
   "version": "3.6.9"
  }
 },
 "nbformat": 4,
 "nbformat_minor": 2
}
